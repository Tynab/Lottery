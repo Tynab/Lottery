{
 "cells": [
  {
   "cell_type": "code",
   "execution_count": 102,
   "metadata": {},
   "outputs": [],
   "source": [
    "import pandas as pd\n",
    "import sklearn.model_selection as model_selection\n",
    "\n",
    "from keras.layers import Dense, LSTM\n",
    "from keras.models import Sequential\n",
    "from sklearn.preprocessing import MinMaxScaler"
   ]
  },
  {
   "cell_type": "code",
   "execution_count": 103,
   "metadata": {},
   "outputs": [],
   "source": [
    "NUM_COLS = ['Zero', 'One', 'Two', 'Three', 'Four', 'Five', 'Six', 'Seven', 'Eight', 'Nine']"
   ]
  },
  {
   "cell_type": "code",
   "execution_count": 104,
   "metadata": {},
   "outputs": [],
   "source": [
    "# Đọc dữ liệu từ tập tin CSV\n",
    "df = pd.read_csv('lottery.csv')"
   ]
  },
  {
   "cell_type": "code",
   "execution_count": 105,
   "metadata": {},
   "outputs": [],
   "source": [
    "# Chuẩn bị dữ liệu\n",
    "X = df.drop(columns=['Date']).values\n",
    "y = df[NUM_COLS].values"
   ]
  },
  {
   "cell_type": "code",
   "execution_count": 106,
   "metadata": {},
   "outputs": [],
   "source": [
    "# Chia dữ liệu thành tập huấn luyện và tập kiểm tra\n",
    "X_train, X_test, y_train, y_test = model_selection.train_test_split(X, y, test_size=0.2, random_state=42)"
   ]
  },
  {
   "cell_type": "code",
   "execution_count": 107,
   "metadata": {},
   "outputs": [],
   "source": [
    "# Chuẩn hóa dữ liệu\n",
    "scaler = MinMaxScaler()\n",
    "X_train_scaled = scaler.fit_transform(X_train)\n",
    "X_test_scaled = scaler.transform(X_test)"
   ]
  },
  {
   "cell_type": "code",
   "execution_count": 108,
   "metadata": {},
   "outputs": [],
   "source": [
    "# Reshape lại dữ liệu để phù hợp với input của mạng LSTM\n",
    "X_train_reshaped = X_train_scaled.reshape((X_train_scaled.shape[0], 1, X_train_scaled.shape[1]))\n",
    "X_test_reshaped = X_test_scaled.reshape((X_test_scaled.shape[0], 1, X_test_scaled.shape[1]))"
   ]
  },
  {
   "cell_type": "code",
   "execution_count": 109,
   "metadata": {},
   "outputs": [],
   "source": [
    "# Xây dựng mô hình LSTM\n",
    "model = Sequential()\n",
    "model.add(LSTM(50, input_shape=(X_train_reshaped.shape[1], X_train_reshaped.shape[2])))\n",
    "model.add(Dense(10))  # 10 đầu ra tương ứng với số lần xuất hiện từ zero đến nine\n",
    "model.compile(loss='mse', optimizer='adam')"
   ]
  },
  {
   "cell_type": "code",
   "execution_count": 110,
   "metadata": {},
   "outputs": [
    {
     "name": "stdout",
     "output_type": "stream",
     "text": [
      "Epoch 1/100\n",
      "350/350 - 2s - loss: 50.7983 - val_loss: 9.7125 - 2s/epoch - 5ms/step\n",
      "Epoch 2/100\n",
      "350/350 - 0s - loss: 9.5440 - val_loss: 9.5814 - 385ms/epoch - 1ms/step\n",
      "Epoch 3/100\n",
      "350/350 - 0s - loss: 9.5198 - val_loss: 9.5656 - 381ms/epoch - 1ms/step\n",
      "Epoch 4/100\n",
      "350/350 - 0s - loss: 9.4958 - val_loss: 9.5366 - 374ms/epoch - 1ms/step\n",
      "Epoch 5/100\n",
      "350/350 - 0s - loss: 9.4671 - val_loss: 9.5069 - 380ms/epoch - 1ms/step\n",
      "Epoch 6/100\n",
      "350/350 - 0s - loss: 9.4274 - val_loss: 9.4608 - 397ms/epoch - 1ms/step\n",
      "Epoch 7/100\n",
      "350/350 - 0s - loss: 9.3660 - val_loss: 9.3910 - 392ms/epoch - 1ms/step\n",
      "Epoch 8/100\n",
      "350/350 - 0s - loss: 9.2703 - val_loss: 9.2716 - 383ms/epoch - 1ms/step\n",
      "Epoch 9/100\n",
      "350/350 - 0s - loss: 9.0219 - val_loss: 8.8613 - 379ms/epoch - 1ms/step\n",
      "Epoch 10/100\n",
      "350/350 - 0s - loss: 8.4171 - val_loss: 8.0338 - 413ms/epoch - 1ms/step\n",
      "Epoch 11/100\n",
      "350/350 - 0s - loss: 7.3262 - val_loss: 6.7021 - 444ms/epoch - 1ms/step\n",
      "Epoch 12/100\n",
      "350/350 - 0s - loss: 5.7819 - val_loss: 4.9826 - 389ms/epoch - 1ms/step\n",
      "Epoch 13/100\n",
      "350/350 - 0s - loss: 4.0235 - val_loss: 3.2223 - 385ms/epoch - 1ms/step\n",
      "Epoch 14/100\n",
      "350/350 - 0s - loss: 2.4254 - val_loss: 1.7745 - 384ms/epoch - 1ms/step\n",
      "Epoch 15/100\n",
      "350/350 - 0s - loss: 1.2390 - val_loss: 0.8331 - 388ms/epoch - 1ms/step\n",
      "Epoch 16/100\n",
      "350/350 - 0s - loss: 0.5613 - val_loss: 0.3721 - 383ms/epoch - 1ms/step\n",
      "Epoch 17/100\n",
      "350/350 - 0s - loss: 0.2770 - val_loss: 0.2141 - 381ms/epoch - 1ms/step\n",
      "Epoch 18/100\n",
      "350/350 - 0s - loss: 0.1895 - val_loss: 0.1701 - 387ms/epoch - 1ms/step\n",
      "Epoch 19/100\n",
      "350/350 - 0s - loss: 0.1655 - val_loss: 0.1585 - 430ms/epoch - 1ms/step\n",
      "Epoch 20/100\n",
      "350/350 - 0s - loss: 0.1564 - val_loss: 0.1496 - 396ms/epoch - 1ms/step\n",
      "Epoch 21/100\n",
      "350/350 - 0s - loss: 0.1493 - val_loss: 0.1429 - 408ms/epoch - 1ms/step\n",
      "Epoch 22/100\n",
      "350/350 - 0s - loss: 0.1425 - val_loss: 0.1377 - 409ms/epoch - 1ms/step\n",
      "Epoch 23/100\n",
      "350/350 - 0s - loss: 0.1359 - val_loss: 0.1314 - 410ms/epoch - 1ms/step\n",
      "Epoch 24/100\n",
      "350/350 - 0s - loss: 0.1295 - val_loss: 0.1251 - 388ms/epoch - 1ms/step\n",
      "Epoch 25/100\n",
      "350/350 - 0s - loss: 0.1234 - val_loss: 0.1194 - 380ms/epoch - 1ms/step\n",
      "Epoch 26/100\n",
      "350/350 - 0s - loss: 0.1171 - val_loss: 0.1144 - 388ms/epoch - 1ms/step\n",
      "Epoch 27/100\n",
      "350/350 - 0s - loss: 0.1113 - val_loss: 0.1082 - 383ms/epoch - 1ms/step\n",
      "Epoch 28/100\n",
      "350/350 - 0s - loss: 0.1056 - val_loss: 0.1024 - 396ms/epoch - 1ms/step\n",
      "Epoch 29/100\n",
      "350/350 - 0s - loss: 0.1002 - val_loss: 0.0981 - 413ms/epoch - 1ms/step\n",
      "Epoch 30/100\n",
      "350/350 - 0s - loss: 0.0950 - val_loss: 0.0947 - 416ms/epoch - 1ms/step\n",
      "Epoch 31/100\n",
      "350/350 - 0s - loss: 0.0903 - val_loss: 0.0887 - 389ms/epoch - 1ms/step\n",
      "Epoch 32/100\n",
      "350/350 - 0s - loss: 0.0856 - val_loss: 0.0844 - 389ms/epoch - 1ms/step\n",
      "Epoch 33/100\n",
      "350/350 - 0s - loss: 0.0813 - val_loss: 0.0805 - 381ms/epoch - 1ms/step\n",
      "Epoch 34/100\n",
      "350/350 - 0s - loss: 0.0772 - val_loss: 0.0758 - 374ms/epoch - 1ms/step\n",
      "Epoch 35/100\n",
      "350/350 - 0s - loss: 0.0731 - val_loss: 0.0736 - 381ms/epoch - 1ms/step\n",
      "Epoch 36/100\n",
      "350/350 - 0s - loss: 0.0695 - val_loss: 0.0692 - 383ms/epoch - 1ms/step\n",
      "Epoch 37/100\n",
      "350/350 - 0s - loss: 0.0658 - val_loss: 0.0662 - 374ms/epoch - 1ms/step\n",
      "Epoch 38/100\n",
      "350/350 - 0s - loss: 0.0628 - val_loss: 0.0625 - 384ms/epoch - 1ms/step\n",
      "Epoch 39/100\n",
      "350/350 - 0s - loss: 0.0595 - val_loss: 0.0594 - 377ms/epoch - 1ms/step\n",
      "Epoch 40/100\n",
      "350/350 - 0s - loss: 0.0564 - val_loss: 0.0572 - 376ms/epoch - 1ms/step\n",
      "Epoch 41/100\n",
      "350/350 - 0s - loss: 0.0538 - val_loss: 0.0563 - 377ms/epoch - 1ms/step\n",
      "Epoch 42/100\n",
      "350/350 - 0s - loss: 0.0513 - val_loss: 0.0527 - 383ms/epoch - 1ms/step\n",
      "Epoch 43/100\n",
      "350/350 - 0s - loss: 0.0489 - val_loss: 0.0509 - 379ms/epoch - 1ms/step\n",
      "Epoch 44/100\n",
      "350/350 - 0s - loss: 0.0465 - val_loss: 0.0483 - 384ms/epoch - 1ms/step\n",
      "Epoch 45/100\n",
      "350/350 - 0s - loss: 0.0444 - val_loss: 0.0467 - 376ms/epoch - 1ms/step\n",
      "Epoch 46/100\n",
      "350/350 - 0s - loss: 0.0424 - val_loss: 0.0444 - 379ms/epoch - 1ms/step\n",
      "Epoch 47/100\n",
      "350/350 - 0s - loss: 0.0406 - val_loss: 0.0425 - 407ms/epoch - 1ms/step\n",
      "Epoch 48/100\n",
      "350/350 - 0s - loss: 0.0389 - val_loss: 0.0410 - 390ms/epoch - 1ms/step\n",
      "Epoch 49/100\n",
      "350/350 - 0s - loss: 0.0374 - val_loss: 0.0385 - 416ms/epoch - 1ms/step\n",
      "Epoch 50/100\n",
      "350/350 - 0s - loss: 0.0359 - val_loss: 0.0370 - 396ms/epoch - 1ms/step\n",
      "Epoch 51/100\n",
      "350/350 - 0s - loss: 0.0344 - val_loss: 0.0363 - 398ms/epoch - 1ms/step\n",
      "Epoch 52/100\n",
      "350/350 - 0s - loss: 0.0334 - val_loss: 0.0360 - 384ms/epoch - 1ms/step\n",
      "Epoch 53/100\n",
      "350/350 - 0s - loss: 0.0319 - val_loss: 0.0345 - 388ms/epoch - 1ms/step\n",
      "Epoch 54/100\n",
      "350/350 - 0s - loss: 0.0310 - val_loss: 0.0337 - 384ms/epoch - 1ms/step\n",
      "Epoch 55/100\n",
      "350/350 - 0s - loss: 0.0297 - val_loss: 0.0321 - 389ms/epoch - 1ms/step\n",
      "Epoch 56/100\n",
      "350/350 - 0s - loss: 0.0288 - val_loss: 0.0310 - 397ms/epoch - 1ms/step\n",
      "Epoch 57/100\n",
      "350/350 - 0s - loss: 0.0278 - val_loss: 0.0295 - 405ms/epoch - 1ms/step\n",
      "Epoch 58/100\n",
      "350/350 - 0s - loss: 0.0270 - val_loss: 0.0285 - 386ms/epoch - 1ms/step\n",
      "Epoch 59/100\n",
      "350/350 - 0s - loss: 0.0260 - val_loss: 0.0281 - 382ms/epoch - 1ms/step\n",
      "Epoch 60/100\n",
      "350/350 - 0s - loss: 0.0251 - val_loss: 0.0268 - 381ms/epoch - 1ms/step\n",
      "Epoch 61/100\n",
      "350/350 - 0s - loss: 0.0244 - val_loss: 0.0263 - 387ms/epoch - 1ms/step\n",
      "Epoch 62/100\n",
      "350/350 - 0s - loss: 0.0237 - val_loss: 0.0253 - 388ms/epoch - 1ms/step\n",
      "Epoch 63/100\n",
      "350/350 - 0s - loss: 0.0229 - val_loss: 0.0244 - 386ms/epoch - 1ms/step\n",
      "Epoch 64/100\n",
      "350/350 - 0s - loss: 0.0222 - val_loss: 0.0243 - 385ms/epoch - 1ms/step\n",
      "Epoch 65/100\n",
      "350/350 - 0s - loss: 0.0216 - val_loss: 0.0237 - 415ms/epoch - 1ms/step\n",
      "Epoch 66/100\n",
      "350/350 - 0s - loss: 0.0210 - val_loss: 0.0239 - 406ms/epoch - 1ms/step\n",
      "Epoch 67/100\n",
      "350/350 - 0s - loss: 0.0204 - val_loss: 0.0217 - 393ms/epoch - 1ms/step\n",
      "Epoch 68/100\n",
      "350/350 - 0s - loss: 0.0198 - val_loss: 0.0226 - 386ms/epoch - 1ms/step\n",
      "Epoch 69/100\n",
      "350/350 - 0s - loss: 0.0192 - val_loss: 0.0214 - 393ms/epoch - 1ms/step\n",
      "Epoch 70/100\n",
      "350/350 - 0s - loss: 0.0188 - val_loss: 0.0202 - 390ms/epoch - 1ms/step\n",
      "Epoch 71/100\n",
      "350/350 - 0s - loss: 0.0183 - val_loss: 0.0198 - 397ms/epoch - 1ms/step\n",
      "Epoch 72/100\n",
      "350/350 - 0s - loss: 0.0179 - val_loss: 0.0191 - 412ms/epoch - 1ms/step\n",
      "Epoch 73/100\n",
      "350/350 - 0s - loss: 0.0174 - val_loss: 0.0191 - 393ms/epoch - 1ms/step\n",
      "Epoch 74/100\n",
      "350/350 - 0s - loss: 0.0169 - val_loss: 0.0183 - 391ms/epoch - 1ms/step\n",
      "Epoch 75/100\n",
      "350/350 - 0s - loss: 0.0165 - val_loss: 0.0182 - 400ms/epoch - 1ms/step\n",
      "Epoch 76/100\n",
      "350/350 - 0s - loss: 0.0162 - val_loss: 0.0184 - 398ms/epoch - 1ms/step\n",
      "Epoch 77/100\n",
      "350/350 - 0s - loss: 0.0157 - val_loss: 0.0166 - 391ms/epoch - 1ms/step\n",
      "Epoch 78/100\n",
      "350/350 - 0s - loss: 0.0153 - val_loss: 0.0166 - 387ms/epoch - 1ms/step\n",
      "Epoch 79/100\n",
      "350/350 - 0s - loss: 0.0149 - val_loss: 0.0174 - 390ms/epoch - 1ms/step\n",
      "Epoch 80/100\n",
      "350/350 - 0s - loss: 0.0146 - val_loss: 0.0159 - 399ms/epoch - 1ms/step\n",
      "Epoch 81/100\n",
      "350/350 - 0s - loss: 0.0142 - val_loss: 0.0161 - 385ms/epoch - 1ms/step\n",
      "Epoch 82/100\n",
      "350/350 - 0s - loss: 0.0139 - val_loss: 0.0157 - 379ms/epoch - 1ms/step\n",
      "Epoch 83/100\n",
      "350/350 - 0s - loss: 0.0135 - val_loss: 0.0150 - 384ms/epoch - 1ms/step\n",
      "Epoch 84/100\n",
      "350/350 - 0s - loss: 0.0133 - val_loss: 0.0145 - 384ms/epoch - 1ms/step\n",
      "Epoch 85/100\n",
      "350/350 - 0s - loss: 0.0130 - val_loss: 0.0145 - 385ms/epoch - 1ms/step\n",
      "Epoch 86/100\n",
      "350/350 - 0s - loss: 0.0128 - val_loss: 0.0138 - 387ms/epoch - 1ms/step\n",
      "Epoch 87/100\n",
      "350/350 - 0s - loss: 0.0125 - val_loss: 0.0134 - 385ms/epoch - 1ms/step\n",
      "Epoch 88/100\n",
      "350/350 - 0s - loss: 0.0121 - val_loss: 0.0131 - 376ms/epoch - 1ms/step\n",
      "Epoch 89/100\n",
      "350/350 - 0s - loss: 0.0119 - val_loss: 0.0128 - 384ms/epoch - 1ms/step\n",
      "Epoch 90/100\n",
      "350/350 - 0s - loss: 0.0118 - val_loss: 0.0136 - 385ms/epoch - 1ms/step\n",
      "Epoch 91/100\n",
      "350/350 - 0s - loss: 0.0114 - val_loss: 0.0142 - 377ms/epoch - 1ms/step\n",
      "Epoch 92/100\n",
      "350/350 - 0s - loss: 0.0112 - val_loss: 0.0121 - 380ms/epoch - 1ms/step\n",
      "Epoch 93/100\n",
      "350/350 - 0s - loss: 0.0110 - val_loss: 0.0126 - 381ms/epoch - 1ms/step\n",
      "Epoch 94/100\n",
      "350/350 - 0s - loss: 0.0107 - val_loss: 0.0120 - 419ms/epoch - 1ms/step\n",
      "Epoch 95/100\n",
      "350/350 - 0s - loss: 0.0105 - val_loss: 0.0119 - 380ms/epoch - 1ms/step\n",
      "Epoch 96/100\n",
      "350/350 - 0s - loss: 0.0104 - val_loss: 0.0116 - 384ms/epoch - 1ms/step\n",
      "Epoch 97/100\n",
      "350/350 - 0s - loss: 0.0101 - val_loss: 0.0126 - 380ms/epoch - 1ms/step\n",
      "Epoch 98/100\n",
      "350/350 - 0s - loss: 0.0101 - val_loss: 0.0108 - 375ms/epoch - 1ms/step\n",
      "Epoch 99/100\n",
      "350/350 - 0s - loss: 0.0098 - val_loss: 0.0110 - 380ms/epoch - 1ms/step\n",
      "Epoch 100/100\n",
      "350/350 - 0s - loss: 0.0096 - val_loss: 0.0104 - 385ms/epoch - 1ms/step\n"
     ]
    }
   ],
   "source": [
    "# Huấn luyện mô hình\n",
    "history = model.fit(X_train_reshaped, y_train, epochs=100, batch_size=16, validation_data=(X_test_reshaped, y_test), verbose=2)"
   ]
  },
  {
   "cell_type": "code",
   "execution_count": 111,
   "metadata": {},
   "outputs": [
    {
     "name": "stdout",
     "output_type": "stream",
     "text": [
      "Test Loss: 0.010438773781061172\n"
     ]
    }
   ],
   "source": [
    "# Đánh giá mô hình trên tập kiểm tra\n",
    "loss = model.evaluate(X_test_reshaped, y_test, verbose=0)\n",
    "print(f'Test Loss: {loss}')"
   ]
  },
  {
   "cell_type": "code",
   "execution_count": 112,
   "metadata": {},
   "outputs": [],
   "source": [
    "# Lưu mô hình\n",
    "model.save('lottery.keras')"
   ]
  },
  {
   "cell_type": "code",
   "execution_count": 113,
   "metadata": {},
   "outputs": [
    {
     "name": "stdout",
     "output_type": "stream",
     "text": [
      "WARNING:tensorflow:6 out of the last 9 calls to <function Model.make_predict_function.<locals>.predict_function at 0x000001C2C134C5E0> triggered tf.function retracing. Tracing is expensive and the excessive number of tracings could be due to (1) creating @tf.function repeatedly in a loop, (2) passing tensors with different shapes, (3) passing Python objects instead of tensors. For (1), please define your @tf.function outside of the loop. For (2), @tf.function has reduce_retracing=True option that can avoid unnecessary retracing. For (3), please refer to https://www.tensorflow.org/guide/function#controlling_retracing and https://www.tensorflow.org/api_docs/python/tf/function for  more details.\n",
      "1/1 [==============================] - 0s 237ms/step\n",
      "Predictions: [[ 9.984458  11.979424  12.005852  12.028193  10.037702  16.04603\n",
      "  11.947015   9.998369   5.9876814  6.9534693]]\n"
     ]
    }
   ],
   "source": [
    "# Dự đoán số lần xuất hiện của các cột từ zero đến nine cho hàng cuối cùng trong dữ liệu\n",
    "last_row_scaled = scaler.transform(X[-1:])\n",
    "predictions = model.predict(last_row_scaled.reshape((last_row_scaled.shape[0], 1, last_row_scaled.shape[1])))\n",
    "print(f'Predictions: {predictions}')"
   ]
  },
  {
   "cell_type": "code",
   "execution_count": 114,
   "metadata": {},
   "outputs": [
    {
     "name": "stdout",
     "output_type": "stream",
     "text": [
      "Dictionary giữa dự đoán và các cột tương ứng: {'Zero': 9.984458, 'One': 11.979424, 'Two': 12.005852, 'Three': 12.028193, 'Four': 10.037702, 'Five': 16.04603, 'Six': 11.947015, 'Seven': 9.998369, 'Eight': 5.9876814, 'Nine': 6.9534693}\n"
     ]
    }
   ],
   "source": [
    "# Tạo dictionary giữa các cột từ zero đến nine và dự đoán tương ứng\n",
    "predictions_dict = {col_name: prediction for col_name, prediction in zip(NUM_COLS, predictions[0])}\n",
    "print(f'Dictionary giữa dự đoán và các cột tương ứng: {predictions_dict}')"
   ]
  },
  {
   "cell_type": "code",
   "execution_count": 115,
   "metadata": {},
   "outputs": [
    {
     "name": "stdout",
     "output_type": "stream",
     "text": [
      "Cặp số có giá trị dự đoán cao nhất: {'Five': 16.04603, 'Three': 12.028193}\n",
      "Cặp số có giá trị dự đoán thấp nhất: {'Eight': 5.9876814, 'Nine': 6.9534693}\n"
     ]
    }
   ],
   "source": [
    "# Kết quả dự đoán cao nhất và thấp nhất\n",
    "predictions_items = predictions_dict.items()\n",
    "print(f'''Cặp số có giá trị dự đoán cao nhất: {dict(sorted(predictions_items, key=lambda x: x[1], reverse=True)[:2])}\n",
    "Cặp số có giá trị dự đoán thấp nhất: {dict(sorted(predictions_items, key=lambda x: x[1])[:2])}''')"
   ]
  }
 ],
 "metadata": {
  "kernelspec": {
   "display_name": "base",
   "language": "python",
   "name": "python3"
  },
  "language_info": {
   "codemirror_mode": {
    "name": "ipython",
    "version": 3
   },
   "file_extension": ".py",
   "mimetype": "text/x-python",
   "name": "python",
   "nbconvert_exporter": "python",
   "pygments_lexer": "ipython3",
   "version": "3.11.8"
  }
 },
 "nbformat": 4,
 "nbformat_minor": 2
}
