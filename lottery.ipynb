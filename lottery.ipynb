{
 "cells": [
  {
   "cell_type": "code",
   "execution_count": 9,
   "metadata": {},
   "outputs": [],
   "source": [
    "import numpy as np\n",
    "import pandas as pd\n",
    "import sklearn.model_selection as model_selection\n",
    "\n",
    "from sklearn.preprocessing import MinMaxScaler\n",
    "from keras.models import Sequential\n",
    "from keras.layers import LSTM, Dense"
   ]
  },
  {
   "cell_type": "code",
   "execution_count": 10,
   "metadata": {},
   "outputs": [],
   "source": [
    "# Đọc dữ liệu từ tập tin CSV\n",
    "data = pd.read_csv('lottery.csv')"
   ]
  },
  {
   "cell_type": "code",
   "execution_count": 11,
   "metadata": {},
   "outputs": [],
   "source": [
    "# Chuẩn bị dữ liệu\n",
    "X = data.drop(columns=['Date']).values\n",
    "y = data[['Zero', 'One', 'Two', 'Three', 'Four', 'Five', 'Six', 'Seven', 'Eight', 'Nine']].values"
   ]
  },
  {
   "cell_type": "code",
   "execution_count": 12,
   "metadata": {},
   "outputs": [],
   "source": [
    "# Chia dữ liệu thành tập huấn luyện và tập kiểm tra\n",
    "X_train, X_test, y_train, y_test = model_selection.train_test_split(X, y, test_size=0.2, random_state=42)"
   ]
  },
  {
   "cell_type": "code",
   "execution_count": 13,
   "metadata": {},
   "outputs": [],
   "source": [
    "# Chuẩn hóa dữ liệu\n",
    "scaler = MinMaxScaler()\n",
    "X_train_scaled = scaler.fit_transform(X_train)\n",
    "X_test_scaled = scaler.transform(X_test)"
   ]
  },
  {
   "cell_type": "code",
   "execution_count": 14,
   "metadata": {},
   "outputs": [],
   "source": [
    "# Reshape lại dữ liệu để phù hợp với input của mạng LSTM\n",
    "X_train_reshaped = X_train_scaled.reshape((X_train_scaled.shape[0], 1, X_train_scaled.shape[1]))\n",
    "X_test_reshaped = X_test_scaled.reshape((X_test_scaled.shape[0], 1, X_test_scaled.shape[1]))"
   ]
  },
  {
   "cell_type": "code",
   "execution_count": 15,
   "metadata": {},
   "outputs": [],
   "source": [
    "# Xây dựng mô hình LSTM\n",
    "model = Sequential()\n",
    "model.add(LSTM(50, input_shape=(X_train_reshaped.shape[1], X_train_reshaped.shape[2])))\n",
    "model.add(Dense(10))  # 10 đầu ra tương ứng với số lần xuất hiện từ zero đến nine\n",
    "model.compile(loss='mse', optimizer='adam')"
   ]
  },
  {
   "cell_type": "code",
   "execution_count": 17,
   "metadata": {},
   "outputs": [
    {
     "name": "stdout",
     "output_type": "stream",
     "text": [
      "Epoch 1/100\n",
      "350/350 - 0s - loss: 0.0094 - val_loss: 0.0104 - 385ms/epoch - 1ms/step\n",
      "Epoch 2/100\n",
      "350/350 - 0s - loss: 0.0094 - val_loss: 0.0099 - 363ms/epoch - 1ms/step\n",
      "Epoch 3/100\n",
      "350/350 - 0s - loss: 0.0091 - val_loss: 0.0102 - 364ms/epoch - 1ms/step\n",
      "Epoch 4/100\n",
      "350/350 - 0s - loss: 0.0090 - val_loss: 0.0097 - 356ms/epoch - 1ms/step\n",
      "Epoch 5/100\n",
      "350/350 - 0s - loss: 0.0089 - val_loss: 0.0092 - 371ms/epoch - 1ms/step\n",
      "Epoch 6/100\n",
      "350/350 - 0s - loss: 0.0086 - val_loss: 0.0098 - 358ms/epoch - 1ms/step\n",
      "Epoch 7/100\n",
      "350/350 - 0s - loss: 0.0086 - val_loss: 0.0091 - 363ms/epoch - 1ms/step\n",
      "Epoch 8/100\n",
      "350/350 - 0s - loss: 0.0083 - val_loss: 0.0092 - 367ms/epoch - 1ms/step\n",
      "Epoch 9/100\n",
      "350/350 - 0s - loss: 0.0083 - val_loss: 0.0089 - 368ms/epoch - 1ms/step\n",
      "Epoch 10/100\n",
      "350/350 - 0s - loss: 0.0080 - val_loss: 0.0089 - 367ms/epoch - 1ms/step\n",
      "Epoch 11/100\n",
      "350/350 - 0s - loss: 0.0079 - val_loss: 0.0088 - 361ms/epoch - 1ms/step\n",
      "Epoch 12/100\n",
      "350/350 - 0s - loss: 0.0079 - val_loss: 0.0088 - 370ms/epoch - 1ms/step\n",
      "Epoch 13/100\n",
      "350/350 - 0s - loss: 0.0077 - val_loss: 0.0085 - 370ms/epoch - 1ms/step\n",
      "Epoch 14/100\n",
      "350/350 - 0s - loss: 0.0076 - val_loss: 0.0082 - 372ms/epoch - 1ms/step\n",
      "Epoch 15/100\n",
      "350/350 - 0s - loss: 0.0075 - val_loss: 0.0085 - 364ms/epoch - 1ms/step\n",
      "Epoch 16/100\n",
      "350/350 - 0s - loss: 0.0074 - val_loss: 0.0078 - 369ms/epoch - 1ms/step\n",
      "Epoch 17/100\n",
      "350/350 - 0s - loss: 0.0073 - val_loss: 0.0080 - 351ms/epoch - 1ms/step\n",
      "Epoch 18/100\n",
      "350/350 - 0s - loss: 0.0072 - val_loss: 0.0080 - 365ms/epoch - 1ms/step\n",
      "Epoch 19/100\n",
      "350/350 - 0s - loss: 0.0071 - val_loss: 0.0074 - 366ms/epoch - 1ms/step\n",
      "Epoch 20/100\n",
      "350/350 - 0s - loss: 0.0069 - val_loss: 0.0076 - 362ms/epoch - 1ms/step\n",
      "Epoch 21/100\n",
      "350/350 - 0s - loss: 0.0069 - val_loss: 0.0072 - 365ms/epoch - 1ms/step\n",
      "Epoch 22/100\n",
      "350/350 - 0s - loss: 0.0068 - val_loss: 0.0070 - 356ms/epoch - 1ms/step\n",
      "Epoch 23/100\n",
      "350/350 - 0s - loss: 0.0066 - val_loss: 0.0079 - 352ms/epoch - 1ms/step\n",
      "Epoch 24/100\n",
      "350/350 - 0s - loss: 0.0065 - val_loss: 0.0074 - 367ms/epoch - 1ms/step\n",
      "Epoch 25/100\n",
      "350/350 - 0s - loss: 0.0064 - val_loss: 0.0076 - 359ms/epoch - 1ms/step\n",
      "Epoch 26/100\n",
      "350/350 - 0s - loss: 0.0063 - val_loss: 0.0069 - 358ms/epoch - 1ms/step\n",
      "Epoch 27/100\n",
      "350/350 - 0s - loss: 0.0063 - val_loss: 0.0068 - 362ms/epoch - 1ms/step\n",
      "Epoch 28/100\n",
      "350/350 - 0s - loss: 0.0062 - val_loss: 0.0064 - 358ms/epoch - 1ms/step\n",
      "Epoch 29/100\n",
      "350/350 - 0s - loss: 0.0060 - val_loss: 0.0070 - 358ms/epoch - 1ms/step\n",
      "Epoch 30/100\n",
      "350/350 - 0s - loss: 0.0060 - val_loss: 0.0067 - 366ms/epoch - 1ms/step\n",
      "Epoch 31/100\n",
      "350/350 - 0s - loss: 0.0060 - val_loss: 0.0068 - 374ms/epoch - 1ms/step\n",
      "Epoch 32/100\n",
      "350/350 - 0s - loss: 0.0059 - val_loss: 0.0065 - 367ms/epoch - 1ms/step\n",
      "Epoch 33/100\n",
      "350/350 - 0s - loss: 0.0058 - val_loss: 0.0065 - 382ms/epoch - 1ms/step\n",
      "Epoch 34/100\n",
      "350/350 - 0s - loss: 0.0057 - val_loss: 0.0064 - 366ms/epoch - 1ms/step\n",
      "Epoch 35/100\n",
      "350/350 - 0s - loss: 0.0057 - val_loss: 0.0059 - 369ms/epoch - 1ms/step\n",
      "Epoch 36/100\n",
      "350/350 - 0s - loss: 0.0055 - val_loss: 0.0060 - 368ms/epoch - 1ms/step\n",
      "Epoch 37/100\n",
      "350/350 - 0s - loss: 0.0056 - val_loss: 0.0060 - 365ms/epoch - 1ms/step\n",
      "Epoch 38/100\n",
      "350/350 - 0s - loss: 0.0054 - val_loss: 0.0059 - 366ms/epoch - 1ms/step\n",
      "Epoch 39/100\n",
      "350/350 - 0s - loss: 0.0054 - val_loss: 0.0064 - 368ms/epoch - 1ms/step\n",
      "Epoch 40/100\n",
      "350/350 - 0s - loss: 0.0052 - val_loss: 0.0059 - 365ms/epoch - 1ms/step\n",
      "Epoch 41/100\n",
      "350/350 - 0s - loss: 0.0052 - val_loss: 0.0060 - 367ms/epoch - 1ms/step\n",
      "Epoch 42/100\n",
      "350/350 - 0s - loss: 0.0052 - val_loss: 0.0062 - 363ms/epoch - 1ms/step\n",
      "Epoch 43/100\n",
      "350/350 - 0s - loss: 0.0050 - val_loss: 0.0054 - 364ms/epoch - 1ms/step\n",
      "Epoch 44/100\n",
      "350/350 - 0s - loss: 0.0050 - val_loss: 0.0053 - 363ms/epoch - 1ms/step\n",
      "Epoch 45/100\n",
      "350/350 - 0s - loss: 0.0050 - val_loss: 0.0063 - 366ms/epoch - 1ms/step\n",
      "Epoch 46/100\n",
      "350/350 - 0s - loss: 0.0049 - val_loss: 0.0055 - 359ms/epoch - 1ms/step\n",
      "Epoch 47/100\n",
      "350/350 - 0s - loss: 0.0049 - val_loss: 0.0054 - 355ms/epoch - 1ms/step\n",
      "Epoch 48/100\n",
      "350/350 - 0s - loss: 0.0048 - val_loss: 0.0051 - 352ms/epoch - 1ms/step\n",
      "Epoch 49/100\n",
      "350/350 - 0s - loss: 0.0048 - val_loss: 0.0053 - 356ms/epoch - 1ms/step\n",
      "Epoch 50/100\n",
      "350/350 - 0s - loss: 0.0047 - val_loss: 0.0055 - 348ms/epoch - 994us/step\n",
      "Epoch 51/100\n",
      "350/350 - 0s - loss: 0.0047 - val_loss: 0.0054 - 356ms/epoch - 1ms/step\n",
      "Epoch 52/100\n",
      "350/350 - 0s - loss: 0.0047 - val_loss: 0.0054 - 363ms/epoch - 1ms/step\n",
      "Epoch 53/100\n",
      "350/350 - 0s - loss: 0.0045 - val_loss: 0.0052 - 357ms/epoch - 1ms/step\n",
      "Epoch 54/100\n",
      "350/350 - 0s - loss: 0.0045 - val_loss: 0.0047 - 362ms/epoch - 1ms/step\n",
      "Epoch 55/100\n",
      "350/350 - 0s - loss: 0.0045 - val_loss: 0.0049 - 363ms/epoch - 1ms/step\n",
      "Epoch 56/100\n",
      "350/350 - 0s - loss: 0.0044 - val_loss: 0.0052 - 350ms/epoch - 1ms/step\n",
      "Epoch 57/100\n",
      "350/350 - 0s - loss: 0.0043 - val_loss: 0.0049 - 351ms/epoch - 1ms/step\n",
      "Epoch 58/100\n",
      "350/350 - 0s - loss: 0.0043 - val_loss: 0.0058 - 366ms/epoch - 1ms/step\n",
      "Epoch 59/100\n",
      "350/350 - 0s - loss: 0.0043 - val_loss: 0.0048 - 353ms/epoch - 1ms/step\n",
      "Epoch 60/100\n",
      "350/350 - 0s - loss: 0.0043 - val_loss: 0.0047 - 352ms/epoch - 1ms/step\n",
      "Epoch 61/100\n",
      "350/350 - 0s - loss: 0.0041 - val_loss: 0.0047 - 360ms/epoch - 1ms/step\n",
      "Epoch 62/100\n",
      "350/350 - 0s - loss: 0.0041 - val_loss: 0.0050 - 353ms/epoch - 1ms/step\n",
      "Epoch 63/100\n",
      "350/350 - 0s - loss: 0.0040 - val_loss: 0.0042 - 349ms/epoch - 998us/step\n",
      "Epoch 64/100\n",
      "350/350 - 0s - loss: 0.0040 - val_loss: 0.0046 - 354ms/epoch - 1ms/step\n",
      "Epoch 65/100\n",
      "350/350 - 0s - loss: 0.0040 - val_loss: 0.0045 - 353ms/epoch - 1ms/step\n",
      "Epoch 66/100\n",
      "350/350 - 0s - loss: 0.0039 - val_loss: 0.0047 - 371ms/epoch - 1ms/step\n",
      "Epoch 67/100\n",
      "350/350 - 0s - loss: 0.0039 - val_loss: 0.0048 - 367ms/epoch - 1ms/step\n",
      "Epoch 68/100\n",
      "350/350 - 0s - loss: 0.0039 - val_loss: 0.0048 - 364ms/epoch - 1ms/step\n",
      "Epoch 69/100\n",
      "350/350 - 0s - loss: 0.0038 - val_loss: 0.0041 - 364ms/epoch - 1ms/step\n",
      "Epoch 70/100\n",
      "350/350 - 0s - loss: 0.0037 - val_loss: 0.0043 - 368ms/epoch - 1ms/step\n",
      "Epoch 71/100\n",
      "350/350 - 0s - loss: 0.0037 - val_loss: 0.0044 - 363ms/epoch - 1ms/step\n",
      "Epoch 72/100\n",
      "350/350 - 0s - loss: 0.0037 - val_loss: 0.0047 - 364ms/epoch - 1ms/step\n",
      "Epoch 73/100\n",
      "350/350 - 0s - loss: 0.0037 - val_loss: 0.0045 - 367ms/epoch - 1ms/step\n",
      "Epoch 74/100\n",
      "350/350 - 0s - loss: 0.0036 - val_loss: 0.0042 - 369ms/epoch - 1ms/step\n",
      "Epoch 75/100\n",
      "350/350 - 0s - loss: 0.0036 - val_loss: 0.0045 - 367ms/epoch - 1ms/step\n",
      "Epoch 76/100\n",
      "350/350 - 0s - loss: 0.0037 - val_loss: 0.0043 - 360ms/epoch - 1ms/step\n",
      "Epoch 77/100\n",
      "350/350 - 0s - loss: 0.0035 - val_loss: 0.0042 - 365ms/epoch - 1ms/step\n",
      "Epoch 78/100\n",
      "350/350 - 0s - loss: 0.0035 - val_loss: 0.0042 - 366ms/epoch - 1ms/step\n",
      "Epoch 79/100\n",
      "350/350 - 0s - loss: 0.0034 - val_loss: 0.0038 - 373ms/epoch - 1ms/step\n",
      "Epoch 80/100\n",
      "350/350 - 0s - loss: 0.0035 - val_loss: 0.0037 - 363ms/epoch - 1ms/step\n",
      "Epoch 81/100\n",
      "350/350 - 0s - loss: 0.0034 - val_loss: 0.0038 - 365ms/epoch - 1ms/step\n",
      "Epoch 82/100\n",
      "350/350 - 0s - loss: 0.0034 - val_loss: 0.0039 - 368ms/epoch - 1ms/step\n",
      "Epoch 83/100\n",
      "350/350 - 0s - loss: 0.0034 - val_loss: 0.0040 - 367ms/epoch - 1ms/step\n",
      "Epoch 84/100\n",
      "350/350 - 0s - loss: 0.0033 - val_loss: 0.0039 - 364ms/epoch - 1ms/step\n",
      "Epoch 85/100\n",
      "350/350 - 0s - loss: 0.0033 - val_loss: 0.0037 - 368ms/epoch - 1ms/step\n",
      "Epoch 86/100\n",
      "350/350 - 0s - loss: 0.0033 - val_loss: 0.0035 - 364ms/epoch - 1ms/step\n",
      "Epoch 87/100\n",
      "350/350 - 0s - loss: 0.0032 - val_loss: 0.0040 - 363ms/epoch - 1ms/step\n",
      "Epoch 88/100\n",
      "350/350 - 0s - loss: 0.0032 - val_loss: 0.0034 - 361ms/epoch - 1ms/step\n",
      "Epoch 89/100\n",
      "350/350 - 0s - loss: 0.0032 - val_loss: 0.0037 - 368ms/epoch - 1ms/step\n",
      "Epoch 90/100\n",
      "350/350 - 0s - loss: 0.0031 - val_loss: 0.0035 - 371ms/epoch - 1ms/step\n",
      "Epoch 91/100\n",
      "350/350 - 0s - loss: 0.0032 - val_loss: 0.0033 - 364ms/epoch - 1ms/step\n",
      "Epoch 92/100\n",
      "350/350 - 0s - loss: 0.0030 - val_loss: 0.0038 - 361ms/epoch - 1ms/step\n",
      "Epoch 93/100\n",
      "350/350 - 0s - loss: 0.0032 - val_loss: 0.0039 - 365ms/epoch - 1ms/step\n",
      "Epoch 94/100\n",
      "350/350 - 0s - loss: 0.0030 - val_loss: 0.0037 - 369ms/epoch - 1ms/step\n",
      "Epoch 95/100\n",
      "350/350 - 0s - loss: 0.0031 - val_loss: 0.0034 - 361ms/epoch - 1ms/step\n",
      "Epoch 96/100\n",
      "350/350 - 0s - loss: 0.0030 - val_loss: 0.0033 - 362ms/epoch - 1ms/step\n",
      "Epoch 97/100\n",
      "350/350 - 0s - loss: 0.0030 - val_loss: 0.0033 - 367ms/epoch - 1ms/step\n",
      "Epoch 98/100\n",
      "350/350 - 0s - loss: 0.0030 - val_loss: 0.0033 - 362ms/epoch - 1ms/step\n",
      "Epoch 99/100\n",
      "350/350 - 0s - loss: 0.0029 - val_loss: 0.0032 - 360ms/epoch - 1ms/step\n",
      "Epoch 100/100\n",
      "350/350 - 0s - loss: 0.0029 - val_loss: 0.0030 - 355ms/epoch - 1ms/step\n"
     ]
    }
   ],
   "source": [
    "# Huấn luyện mô hình\n",
    "history = model.fit(X_train_reshaped, y_train, epochs=100, batch_size=16, validation_data=(X_test_reshaped, y_test), verbose=2)"
   ]
  },
  {
   "cell_type": "code",
   "execution_count": 32,
   "metadata": {},
   "outputs": [
    {
     "name": "stdout",
     "output_type": "stream",
     "text": [
      "Test Loss: 0.0030441652052104473\n"
     ]
    }
   ],
   "source": [
    "# Đánh giá mô hình trên tập kiểm tra\n",
    "loss = model.evaluate(X_test_reshaped, y_test, verbose=0)\n",
    "print(f'Test Loss: {loss}')"
   ]
  },
  {
   "cell_type": "code",
   "execution_count": 33,
   "metadata": {},
   "outputs": [
    {
     "name": "stdout",
     "output_type": "stream",
     "text": [
      "1/1 [==============================] - 0s 15ms/step\n",
      "Predictions: [[ 9.982309  11.996092  12.024464  12.03833    9.977502  16.094246\n",
      "  12.015838  10.043556   5.9246583  6.946287 ]]\n"
     ]
    }
   ],
   "source": [
    "# Dự đoán số lần xuất hiện của các cột từ zero đến nine cho dữ liệu mới\n",
    "new_data_scaled = scaler.transform(np.array([[10, 12, 12, 12, 10, 16, 12, 10, 6, 7]]))\n",
    "predictions = model.predict(new_data_scaled.reshape((new_data_scaled.shape[0], 1, new_data_scaled.shape[1])))\n",
    "print(f'Predictions: {predictions}')"
   ]
  },
  {
   "cell_type": "code",
   "execution_count": 34,
   "metadata": {},
   "outputs": [
    {
     "name": "stdout",
     "output_type": "stream",
     "text": [
      "Dictionary giữa dự đoán và các cột tương ứng: {'Zero': 9.982309, 'One': 11.996092, 'Two': 12.024464, 'Three': 12.03833, 'Four': 9.977502, 'Five': 16.094246, 'Six': 12.015838, 'Seven': 10.043556, 'Eight': 5.9246583, 'Nine': 6.946287}\n"
     ]
    }
   ],
   "source": [
    "# Tạo dictionary giữa các cột từ zero đến nine và dự đoán tương ứng\n",
    "predictions_dict = {col_name: prediction for col_name, prediction in zip(['Zero', 'One', 'Two', 'Three', 'Four', 'Five', 'Six', 'Seven', 'Eight', 'Nine'], predictions[0])}\n",
    "print(f'Dictionary giữa dự đoán và các cột tương ứng: {predictions_dict}')"
   ]
  },
  {
   "cell_type": "code",
   "execution_count": 45,
   "metadata": {},
   "outputs": [
    {
     "name": "stdout",
     "output_type": "stream",
     "text": [
      "Cặp số có giá trị dự đoán cao nhất: {'Five': 16.094246, 'Three': 12.03833}\n",
      "Cặp số có giá trị dự đoán thấp nhất: {'Eight': 5.9246583, 'Nine': 6.946287}\n"
     ]
    }
   ],
   "source": [
    "print(f'''Cặp số có giá trị dự đoán cao nhất: {dict(sorted(predictions_dict.items(), key=lambda x: x[1], reverse=True)[:2])}\n",
    "Cặp số có giá trị dự đoán thấp nhất: {dict(sorted(predictions_dict.items(), key=lambda x: x[1])[:2])}''')"
   ]
  }
 ],
 "metadata": {
  "kernelspec": {
   "display_name": "base",
   "language": "python",
   "name": "python3"
  },
  "language_info": {
   "codemirror_mode": {
    "name": "ipython",
    "version": 3
   },
   "file_extension": ".py",
   "mimetype": "text/x-python",
   "name": "python",
   "nbconvert_exporter": "python",
   "pygments_lexer": "ipython3",
   "version": "3.11.8"
  }
 },
 "nbformat": 4,
 "nbformat_minor": 2
}
