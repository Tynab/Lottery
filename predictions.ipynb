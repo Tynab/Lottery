{
 "cells": [
  {
   "cell_type": "code",
   "execution_count": 26,
   "metadata": {},
   "outputs": [],
   "source": [
    "import keras.models as km\n",
    "import pandas as pd\n",
    "import tensorflow as tf"
   ]
  },
  {
   "cell_type": "code",
   "execution_count": 27,
   "metadata": {},
   "outputs": [],
   "source": [
    "# Đọc dữ liệu từ tập tin CSV\n",
    "df = pd.read_csv('lottery.csv')"
   ]
  },
  {
   "cell_type": "code",
   "execution_count": 28,
   "metadata": {},
   "outputs": [],
   "source": [
    "# Chuẩn bị dữ liệu cho dự đoán\n",
    "last_row_tensor = tf.convert_to_tensor(df.iloc[-1, 1:].values.reshape(1, 1, -1), dtype=tf.float32)"
   ]
  },
  {
   "cell_type": "code",
   "execution_count": 29,
   "metadata": {},
   "outputs": [],
   "source": [
    "# Load mô hình đã lưu\n",
    "loaded_model = km.load_model('lottery.keras')"
   ]
  },
  {
   "cell_type": "code",
   "execution_count": 30,
   "metadata": {},
   "outputs": [
    {
     "name": "stdout",
     "output_type": "stream",
     "text": [
      "1/1 [==============================] - 0s 236ms/step\n",
      "Predictions: [[14.541763 13.917214 19.096045 21.831207 16.951878 26.936436 17.47632\n",
      "  11.2151    8.468597 13.261239]]\n"
     ]
    }
   ],
   "source": [
    "# Dự đoán số lần xuất hiện của các cột từ zero đến nine cho hàng cuối cùng trong dữ liệu\n",
    "predictions = loaded_model.predict(last_row_tensor)\n",
    "print(f'Predictions: {predictions}')"
   ]
  },
  {
   "cell_type": "code",
   "execution_count": 31,
   "metadata": {},
   "outputs": [
    {
     "name": "stdout",
     "output_type": "stream",
     "text": [
      "Dictionary giữa dự đoán và các cột tương ứng: {'Zero': 14.541763, 'One': 13.917214, 'Two': 19.096045, 'Three': 21.831207, 'Four': 16.951878, 'Five': 26.936436, 'Six': 17.47632, 'Seven': 11.2151, 'Eight': 8.468597, 'Nine': 13.261239}\n"
     ]
    }
   ],
   "source": [
    "# Tạo dictionary giữa các cột từ zero đến nine và dự đoán tương ứng\n",
    "predictions_dict = {col_name: prediction for col_name, prediction in zip(['Zero', 'One', 'Two', 'Three', 'Four', 'Five', 'Six', 'Seven', 'Eight', 'Nine'], predictions[0])}\n",
    "print(f'Dictionary giữa dự đoán và các cột tương ứng: {predictions_dict}')"
   ]
  },
  {
   "cell_type": "code",
   "execution_count": 32,
   "metadata": {},
   "outputs": [
    {
     "name": "stdout",
     "output_type": "stream",
     "text": [
      "Cặp số có giá trị dự đoán cao nhất: {'Five': 26.936436, 'Three': 21.831207}\n",
      "Cặp số có giá trị dự đoán thấp nhất: {'Eight': 8.468597, 'Seven': 11.2151}\n"
     ]
    }
   ],
   "source": [
    "# Kết quả dự đoán cao nhất và thấp nhất\n",
    "predictions_items = predictions_dict.items()\n",
    "print(f'''Cặp số có giá trị dự đoán cao nhất: {dict(sorted(predictions_items, key=lambda x: x[1], reverse=True)[:2])}\n",
    "Cặp số có giá trị dự đoán thấp nhất: {dict(sorted(predictions_items, key=lambda x: x[1])[:2])}''')"
   ]
  }
 ],
 "metadata": {
  "kernelspec": {
   "display_name": "Python 3",
   "language": "python",
   "name": "python3"
  },
  "language_info": {
   "codemirror_mode": {
    "name": "ipython",
    "version": 3
   },
   "file_extension": ".py",
   "mimetype": "text/x-python",
   "name": "python",
   "nbconvert_exporter": "python",
   "pygments_lexer": "ipython3",
   "version": "3.11.8"
  }
 },
 "nbformat": 4,
 "nbformat_minor": 2
}
